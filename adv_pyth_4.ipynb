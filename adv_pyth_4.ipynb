{
 "cells": [
  {
   "cell_type": "markdown",
   "id": "70f908fc",
   "metadata": {},
   "source": [
    "# 1."
   ]
  },
  {
   "cell_type": "code",
   "execution_count": 6,
   "id": "25df9d93",
   "metadata": {},
   "outputs": [
    {
     "name": "stdout",
     "output_type": "stream",
     "text": [
      "1\n",
      "2\n",
      "3\n"
     ]
    }
   ],
   "source": [
    "# In most programming languages that support operator overloading, there are two key methods you can define in your classes\n",
    "#  to enable iteration:\n",
    "\n",
    "# a) iter (self):  This method defines how to create an iterator object for the class. An iterator object is responsible for \n",
    "#     remembering the current state of the iteration and providing the next element when called upon.\n",
    "\n",
    "# b) next (self):  This method is called by the iterator object whenever it needs to retrieve the next element in the sequence. \n",
    "#     It should return the next element in the iteration or raise a StopIteration exception to signal the end.\n",
    "\n",
    "# By implementing these two methods, your class becomes iterable, allowing you to use it in for loops and other constructs \n",
    "#  that expect iterables.\n",
    "    \n",
    "# example:\n",
    "class MyList:\n",
    "    def __init__(self, data):\n",
    "        self.data = data\n",
    "        self.index = 0\n",
    "\n",
    "    def __iter__(self):\n",
    "        return self  # Return itself as the iterator object\n",
    "\n",
    "    def __next__(self):\n",
    "        if self.index >= len(self.data):\n",
    "            raise StopIteration\n",
    "        else:\n",
    "            item = self.data[self.index]\n",
    "            self.index += 1\n",
    "            return item\n",
    "\n",
    "# Example usage\n",
    "my_list = MyList([1, 2, 3])\n",
    "for element in my_list:\n",
    "    print(element)"
   ]
  },
  {
   "cell_type": "markdown",
   "id": "cc328893",
   "metadata": {},
   "source": [
    "# 2."
   ]
  },
  {
   "cell_type": "code",
   "execution_count": 8,
   "id": "ad84405b",
   "metadata": {},
   "outputs": [
    {
     "name": "stdout",
     "output_type": "stream",
     "text": [
      "Person: Alice, Age: 30\n"
     ]
    }
   ],
   "source": [
    "# a) __str__ Method:\n",
    "\n",
    "# i) The __str__ method is used to define the informal or readable string representation of an object.\n",
    "# ii) This method is automatically called when you use print() or str() on an object, or when the object needs to be \n",
    "#     converted to a string in a context where a string representation is expected (e.g., string formatting).\n",
    "# iii) It's typically used to provide a human-readable string representation of the object.\n",
    "\n",
    "# example:\n",
    "class Person:\n",
    "    def __init__(self, name, age):\n",
    "        self.name = name\n",
    "        self.age = age\n",
    "\n",
    "    def __str__(self):\n",
    "        return f\"Person: {self.name}, Age: {self.age}\"\n",
    "\n",
    "person = Person(\"Alice\", 30)\n",
    "print(person)  # Output: Person: Alice, Age: 30"
   ]
  },
  {
   "cell_type": "code",
   "execution_count": 9,
   "id": "462b054a",
   "metadata": {},
   "outputs": [
    {
     "name": "stdout",
     "output_type": "stream",
     "text": [
      "Point(5, 10)\n"
     ]
    }
   ],
   "source": [
    "# b) __repr__ Method:\n",
    "\n",
    "# i) The __repr__ method is used to define the official or unambiguous string representation of an object.\n",
    "# ii) It's called when you use the repr() function on an object, or when the object's representation is needed in contexts\n",
    "#  where the exact object identity or detailed information is required (e.g., debugging).\n",
    "# iii) This method should ideally return a string that, when passed to eval(), would create an equivalent object.\n",
    "\n",
    "# example:\n",
    "class Point:\n",
    "    def __init__(self, x, y):\n",
    "        self.x = x\n",
    "        self.y = y\n",
    "\n",
    "    def __repr__(self):\n",
    "        return f\"Point({self.x}, {self.y})\"\n",
    "\n",
    "point = Point(5, 10)\n",
    "print(repr(point))  # Output: Point(5, 10)"
   ]
  },
  {
   "cell_type": "markdown",
   "id": "bdf0cc6b",
   "metadata": {},
   "source": [
    "# 3."
   ]
  },
  {
   "cell_type": "code",
   "execution_count": 10,
   "id": "3264a539",
   "metadata": {},
   "outputs": [
    {
     "name": "stdout",
     "output_type": "stream",
     "text": [
      "3\n",
      "[3, 4, 5, 6, 7]\n",
      "[1, 2, 3, 4, 5]\n",
      "[1, 3, 5, 7, 9]\n"
     ]
    }
   ],
   "source": [
    "# To intercept slice operations in a class, you can define the __getitem__ method. This method allows your class to customize\n",
    "#  behavior when an object is accessed using indexing or slicing operations ([]).\n",
    "    \n",
    "# example:\n",
    "class CustomList:\n",
    "    def __init__(self, data):\n",
    "        self.data = data\n",
    "\n",
    "    def __getitem__(self, index):\n",
    "        if isinstance(index, slice):\n",
    "            start = index.start if index.start is not None else 0\n",
    "            stop = index.stop if index.stop is not None else len(self.data)\n",
    "            step = index.step if index.step is not None else 1\n",
    "            return self.data[start:stop:step]\n",
    "        else:\n",
    "            return self.data[index]\n",
    "\n",
    "# Example:\n",
    "my_list = CustomList([1, 2, 3, 4, 5, 6, 7, 8, 9])\n",
    "print(my_list[2])           # (single-item indexing)\n",
    "print(my_list[2:7])         # (slicing)\n",
    "print(my_list[:5])          # (slicing with start omitted)\n",
    "print(my_list[::2])         # (slicing with step)"
   ]
  },
  {
   "cell_type": "markdown",
   "id": "cb818674",
   "metadata": {},
   "source": [
    "# 4."
   ]
  },
  {
   "cell_type": "code",
   "execution_count": 13,
   "id": "1efe524d",
   "metadata": {},
   "outputs": [
    {
     "name": "stdout",
     "output_type": "stream",
     "text": [
      "5\n",
      "8\n"
     ]
    }
   ],
   "source": [
    "# In Python classes, you can capture in-place addition (e.g., += operator) by defining the __iadd__ method. This method allows\n",
    "#  you to specify the behavior of the in-place addition operation when it's performed on instances of your class.\n",
    "    \n",
    "# example:\n",
    "class Number:\n",
    "    def __init__(self, value):\n",
    "        self.value = value\n",
    "\n",
    "    def __iadd__(self, other):\n",
    "        self.value += other\n",
    "        return self  # Return self to enable chaining of operations\n",
    "\n",
    "# Example usage\n",
    "num = Number(5)\n",
    "print(num.value)  # Output: 5\n",
    "\n",
    "num += 3          # Equivalent to num = num + 3\n",
    "print(num.value)  # Output: 8"
   ]
  },
  {
   "cell_type": "markdown",
   "id": "beb48d17",
   "metadata": {},
   "source": [
    "# 5."
   ]
  },
  {
   "cell_type": "code",
   "execution_count": 14,
   "id": "a4728f35",
   "metadata": {},
   "outputs": [],
   "source": [
    "# Operator overloading is appropriate in Python when you want to define custom behavior for built-in operators such as \n",
    "# addition (+), subtraction (-), multiplication (*), division (/), etc., for instances of your custom classes. \n",
    "\n",
    "# Here are some situations where operator overloading can be useful and appropriate:\n",
    "\n",
    "# a) Mathematical Operations:\n",
    "#     When working with mathematical objects like vectors, matrices, complex numbers, or other numeric types, you can define how \n",
    "#     these objects should behave under arithmetic operations.\n",
    "\n",
    "# b) Convenience:\n",
    "#     Operator overloading can make your code more readable and expressive. For instance, using + to concatenate strings or \n",
    "#     lists is more intuitive than calling a specific method like concat or append.\n",
    "\n",
    "# c) Polymorphism:\n",
    "#     Operator overloading enables polymorphism, allowing different classes to respond differently to the same operator based \n",
    "#     on their implementation. This can improve code reusability and extensibility.\n",
    "\n",
    "# d)Pythonic Code:\n",
    "#     Python encourages expressive and readable code. Operator overloading is a Pythonic way to provide intuitive behavior \n",
    "#     for objects, aligning with the language's philosophy of simplicity and readability.\n",
    "\n",
    "# e) Integration with Built-in Functions:\n",
    "#     Operator overloading integrates well with built-in functions and Python's data model. For example, defining __len__ and \n",
    "#     __getitem__ methods allows your objects to work seamlessly with len() and slicing notation."
   ]
  },
  {
   "cell_type": "code",
   "execution_count": null,
   "id": "cd1611b8",
   "metadata": {},
   "outputs": [],
   "source": []
  }
 ],
 "metadata": {
  "kernelspec": {
   "display_name": "Python 3 (ipykernel)",
   "language": "python",
   "name": "python3"
  },
  "language_info": {
   "codemirror_mode": {
    "name": "ipython",
    "version": 3
   },
   "file_extension": ".py",
   "mimetype": "text/x-python",
   "name": "python",
   "nbconvert_exporter": "python",
   "pygments_lexer": "ipython3",
   "version": "3.11.5"
  }
 },
 "nbformat": 4,
 "nbformat_minor": 5
}
